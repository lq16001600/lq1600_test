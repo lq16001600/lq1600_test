{
  "nbformat": 4,
  "nbformat_minor": 0,
  "metadata": {
    "colab": {
      "name": "Copy of Leela_zero_K80.ipynb",
      "version": "0.3.2",
      "provenance": [],
      "private_outputs": true,
      "collapsed_sections": []
    },
    "kernelspec": {
      "name": "python3",
      "display_name": "Python 3"
    },
    "accelerator": "GPU"
  },
  "cells": [
    {
      "cell_type": "markdown",
      "metadata": {
        "id": "view-in-github",
        "colab_type": "text"
      },
      "source": [
        "[View in Colaboratory](https://colab.research.google.com/github/lq16001600/lq1600_test/blob/master/my_Leela_zero_K80.ipynb)"
      ]
    },
    {
      "metadata": {
        "id": "tijKn7s4SYs8",
        "colab_type": "text"
      },
      "cell_type": "markdown",
      "source": [
        "This notebook shows how to run a **Leela Zero client on Google Colab's NVIDIA Tesla K80 GPU**. Thanks to [djinnome from the Leela Chess Zero GitHub who figured it out](https://github.com/glinscott/leela-chess/issues/284).\n",
        "\n",
        "Run each cell in order, waiting for the previous one to finish before running the next.\n",
        "\n",
        "The scripts and cell layout may be messy/redundant, but this should work.\n"
      ]
    },
    {
      "metadata": {
        "id": "vwv",
        "colab_type": "code",
        "colab": {}
      },
      "cell_type": "code",
      "source": [
        "!apt-get update\n",
        "!apt --fix-broken install\n",
        "!apt-get install -y --fix-missing clinfo cmake git libboost-all-dev libopenblas-dev nvidia-cuda-toolkit opencl-headers libboost-dev libboost-program-options-dev libopenblas-dev opencl-headers ocl-icd-libopencl1 ocl-icd-opencl-dev zlib1g-dev qt5-default qt5-qmake curl\n",
        "!clinfo"
      ],
      "execution_count": 0,
      "outputs": []
    },
    {
      "metadata": {
        "id": "jl7wiL7JUIEQ",
        "colab_type": "text"
      },
      "cell_type": "markdown",
      "source": [
        "The first cell may take ~10 minutes to complete. You will know when it's done by the proper clinfo output showing the K80; also, the progress indicator will have stopped spinning."
      ]
    },
    {
      "metadata": {
        "id": "vwe",
        "colab_type": "code",
        "colab": {}
      },
      "cell_type": "code",
      "source": [
        "!rm -rf leela-zero\n",
        "!git clone https://github.com/gcp/leela-zero\n",
        "!cd leela-zero/src && make"
      ],
      "execution_count": 0,
      "outputs": []
    },
    {
      "metadata": {
        "id": "vwy",
        "colab_type": "code",
        "colab": {}
      },
      "cell_type": "code",
      "source": [
        "!cd leela-zero/autogtp && qmake -qt5\n",
        "!cd leela-zero/autogtp && make"
      ],
      "execution_count": 0,
      "outputs": []
    },
    {
      "metadata": {
        "id": "qpejYGx7QgSi",
        "colab_type": "code",
        "colab": {}
      },
      "cell_type": "code",
      "source": [
        "!echo '0;XgemmBatched;192;100;192;16; -DKWG=32 -DKWI=2 -DMDIMA=8 -DMDIMC=8 -DMWG=32 -DNDIMB=16 -DNDIMC=16 -DNWG=64 -DSA=1 -DSB=1 -DSTRM=0 -DSTRN=0 -DVWM=4 -DVWN=4;OpenCL: NVIDIA Corporation Tesla K80 @ 823MHz' > leela-zero/autogtp/leelaz_opencl_tuning"
      ],
      "execution_count": 0,
      "outputs": []
    },
    {
      "metadata": {
        "id": "vza",
        "colab_type": "code",
        "colab": {}
      },
      "cell_type": "code",
      "source": [
        "!cp leela-zero/src/leelaz leela-zero/autogtp/\n",
        "!cd leela-zero/autogtp && ./autogtp"
      ],
      "execution_count": 0,
      "outputs": []
    }
  ]
}